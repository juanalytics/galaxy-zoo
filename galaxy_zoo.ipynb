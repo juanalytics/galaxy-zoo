{
 "cells": [
  {
   "cell_type": "markdown",
   "id": "82ea3b5e",
   "metadata": {
    "id": "82ea3b5e"
   },
   "source": [
    "# **Entendimiento del Negocio y Carga de Datos**\n",
    "---\n",
    "\n",
    "- **Andrés Felipe Rosada**\n",
    "- **Sergio Motta Doncel**\n",
    "- **Angel Olivera Pinzón**\n",
    "- **Juan Manuel Pérez**"
   ]
  },
  {
   "cell_type": "markdown",
   "id": "fdb4c33d",
   "metadata": {
    "id": "fdb4c33d"
   },
   "source": [
    "## **1. Marco de Proyecto**\n",
    "---\n",
    "\n",
    "### **Desafío Galaxy Zoo.**\n",
    "\n",
    "El Galaxy Zoo Challenge de Kaggle es un proyecto que busca describir galaxias observadas en el cielo nocturno a través de una innovadora herramienta de colaboración colectiva. En esta iniciativa, los usuarios analizan imágenes astronómicas respondiendo a una serie de preguntas sobre las características morfológicas que observan.\n",
    "\n",
    "El conjunto de datos contiene 61.578 imágenes, cada una acompañada de sus respectivas etiquetas. Estas etiquetas están organizadas en 37 clases con el formato \"ClaseA.B\", donde A representa una pregunta (del 1 al 11) y B corresponde a una de sus posibles opciones. A diferencia de un problema clásico de clasificación, en este caso cada clase representa un atributo específico y la mayoría de las imágenes presentan múltiples atributos simultáneamente.\n",
    "\n",
    "Los valores asociados a cada clase reflejan el nivel de confianza colectiva (entre 0 y 1) de que una determinada respuesta es correcta. Cabe destacar que el sistema de clasificación utiliza un árbol de decisión dinámico, en el que las preguntas mostradas al usuario dependen de sus respuestas anteriores, por lo que no todos los participantes ven las mismas preguntas para cada imagen."
   ]
  },
  {
   "cell_type": "markdown",
   "id": "7a974ec1",
   "metadata": {
    "id": "7a974ec1"
   },
   "source": [
    "### **1.1. Trasfondo del Negocio**\n",
    "---\n",
    "\n",
    "- ¿Quién es el cliente o los beneficiarios del proyecto? ¿En qué dominio se encuentran (marketing, medicina, entre otros)?\n",
    "- ¿Qué problemas del negocio o del dominio estamos tratando de solucionar?"
   ]
  },
  {
   "cell_type": "markdown",
   "id": "18d9305a",
   "metadata": {
    "id": "18d9305a"
   },
   "source": [
    "Los principales beneficiarios del proyecto Galaxy Zoo son la comunidad científica astronómica y, en particular, los investigadores en el área de la astrofísica observacional y la morfología galáctica. Este proyecto también beneficia a instituciones académicas, observatorios astronómicos, centros de investigación, y a la comunidad de ciencia ciudadana que participa activamente en la clasificación de galaxias.\n",
    "\n",
    "El dominio del proyecto es claramente científico, específicamente en el campo de la astronomía y la astroinformática. Claramente es un proyecto que se relaciona de manera indirecta con el área de inteligencia artificial y la ciencia de datos, ya que el problema de clasificación automática de galaxias implica técnicas avanzadas de aprendizaje automático y procesamiento de imágenes.\n",
    "\n",
    "Adicionalmente el proyecto tiene un impacto significativo en la educación científica y en la divulgación del conocimiento, al involucrar a ciudadanos comunes en un proceso colaborativo de descubrimiento, lo que fortalece el vínculo entre ciencia y sociedad.\n",
    "\n",
    "Este proyecto aborda varios problemas fundamentales en el dominio de la astronomía observacional:\n",
    "\n",
    " - **Escalabilidad del análisis morfológico de galaxias:** En la era de los grandes observatorios y telescopios digitales, como el Sloan Digital Sky Survey (SDSS), se generan millones de imágenes astronómicas. Clasificar manualmente cada galaxia es inviable para un número reducido de expertos. Galaxy Zoo plantea una solución basada en la inteligencia colectiva y, posteriormente, en el entrenamiento de modelos automáticos capaces de replicar estas clasificaciones con alta precisión.\n",
    "\n",
    " - **Automatización de tareas cognitivamente complejas:** Aunque existen modelos de clasificación automática de imágenes, las estructuras morfológicas de las galaxias (espirales, elípticas, interacciones, barras, etc.) pueden ser sutiles y requieren un juicio visual refinado. El proyecto ayuda a generar datos etiquetados de alta calidad que pueden ser usados para entrenar modelos más robustos, basados en aprendizaje profundo.\n",
    "\n",
    " - **Generación de conocimiento científico:** Al sistematizar y clasificar una gran cantidad de galaxias, el proyecto permite estudiar la distribución y evolución de estas estructuras en el universo, lo que contribuye directamente a responder preguntas sobre la formación galáctica, la materia oscura, y la evolución cósmica."
   ]
  },
  {
   "cell_type": "markdown",
   "id": "d09c63e5",
   "metadata": {
    "id": "d09c63e5"
   },
   "source": [
    "### **1.2. Alcance**\n",
    "---\n",
    "\n",
    "- ¿Qué  solución basada en _Deep Learning_ queremos implementar?\n",
    "- ¿Qué  se hará?\n",
    "- ¿De qué forma el cliente o beneficiario utilizará el producto del proyecto?"
   ]
  }
 ],
 "metadata": {
  "colab": {
   "provenance": []
  },
  "jupytext": {
   "cell_metadata_filter": "-all"
  },
  "kernelspec": {
   "display_name": "Python 3 (ipykernel)",
   "language": "python",
   "name": "python3"
  }
 },
 "nbformat": 4,
 "nbformat_minor": 5
}